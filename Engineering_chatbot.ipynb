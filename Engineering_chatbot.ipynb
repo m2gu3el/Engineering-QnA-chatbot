{
  "cells": [
    {
      "cell_type": "markdown",
      "metadata": {
        "id": "view-in-github",
        "colab_type": "text"
      },
      "source": [
        "<a href=\"https://colab.research.google.com/github/m2gu3el/Engineering-QnA-chatbot/blob/main/Engineering_chatbot.ipynb\" target=\"_parent\"><img src=\"https://colab.research.google.com/assets/colab-badge.svg\" alt=\"Open In Colab\"/></a>"
      ]
    },
    {
      "cell_type": "code",
      "execution_count": null,
      "metadata": {
        "colab": {
          "base_uri": "https://localhost:8080/",
          "height": 651
        },
        "id": "nMcYmPQF3krn",
        "outputId": "1fc7f5af-5b94-470b-a5d0-f96092f1948f"
      },
      "outputs": [
        {
          "output_type": "stream",
          "name": "stderr",
          "text": [
            "[nltk_data] Downloading package punkt to /root/nltk_data...\n",
            "[nltk_data]   Package punkt is already up-to-date!\n"
          ]
        },
        {
          "output_type": "stream",
          "name": "stdout",
          "text": [
            "Requirement already satisfied: tflearn in /usr/local/lib/python3.10/dist-packages (0.5.0)\n",
            "Requirement already satisfied: numpy in /usr/local/lib/python3.10/dist-packages (from tflearn) (1.23.5)\n",
            "Requirement already satisfied: six in /usr/local/lib/python3.10/dist-packages (from tflearn) (1.16.0)\n",
            "Requirement already satisfied: Pillow in /usr/local/lib/python3.10/dist-packages (from tflearn) (9.4.0)\n",
            "Found existing installation: tflearn 0.5.0\n",
            "Uninstalling tflearn-0.5.0:\n",
            "  Would remove:\n",
            "    /usr/local/lib/python3.10/dist-packages/tflearn-0.5.0.dist-info/*\n",
            "    /usr/local/lib/python3.10/dist-packages/tflearn/*\n",
            "Proceed (Y/n)? y\n",
            "  Successfully uninstalled tflearn-0.5.0\n",
            "Collecting git+https://github.com/MihaMarkic/tflearn.git@fix/is_sequence_missing\n",
            "  Cloning https://github.com/MihaMarkic/tflearn.git (to revision fix/is_sequence_missing) to /tmp/pip-req-build-sdq_kpq9\n",
            "  Running command git clone --filter=blob:none --quiet https://github.com/MihaMarkic/tflearn.git /tmp/pip-req-build-sdq_kpq9\n",
            "  Running command git checkout -b fix/is_sequence_missing --track origin/fix/is_sequence_missing\n",
            "  Switched to a new branch 'fix/is_sequence_missing'\n",
            "  Branch 'fix/is_sequence_missing' set up to track remote branch 'fix/is_sequence_missing' from 'origin'.\n",
            "  Resolved https://github.com/MihaMarkic/tflearn.git to commit 6472b8588e758ff4a33a2764d4ee638bbd0e42f0\n",
            "  Preparing metadata (setup.py) ... \u001b[?25l\u001b[?25hdone\n",
            "Requirement already satisfied: numpy in /usr/local/lib/python3.10/dist-packages (from tflearn==0.5.0) (1.23.5)\n",
            "Requirement already satisfied: six in /usr/local/lib/python3.10/dist-packages (from tflearn==0.5.0) (1.16.0)\n",
            "Requirement already satisfied: Pillow in /usr/local/lib/python3.10/dist-packages (from tflearn==0.5.0) (9.4.0)\n",
            "Building wheels for collected packages: tflearn\n",
            "  Building wheel for tflearn (setup.py) ... \u001b[?25l\u001b[?25hdone\n",
            "  Created wheel for tflearn: filename=tflearn-0.5.0-py3-none-any.whl size=130659 sha256=9166867c0c07be28e3f404fb0d0eb05800a7d39f6d515fc284b50828dc3f73b6\n",
            "  Stored in directory: /tmp/pip-ephem-wheel-cache-2q25m6y6/wheels/4d/8c/0c/2159783f8dfd53bdaf4e59cd3990607ac8d5d912ae6de88296\n",
            "Successfully built tflearn\n",
            "Installing collected packages: tflearn\n",
            "Successfully installed tflearn-0.5.0\n"
          ]
        },
        {
          "output_type": "display_data",
          "data": {
            "application/vnd.colab-display-data+json": {
              "pip_warning": {
                "packages": [
                  "tflearn"
                ]
              }
            }
          },
          "metadata": {}
        }
      ],
      "source": [
        "# Libraries needed for NLP\n",
        "import nltk\n",
        "nltk.download('punkt')\n",
        "from nltk.stem.lancaster import LancasterStemmer\n",
        "stemmer = LancasterStemmer()\n",
        "\n",
        "# Libraries needed for Tensorflow processing\n",
        "!pip install tflearn\n",
        "import numpy as np\n",
        "import tensorflow as tf\n",
        "!pip uninstall tflearn\n",
        "!pip install git+https://github.com/MihaMarkic/tflearn.git@fix/is_sequence_missing\n",
        "import tflearn\n",
        "import random"
      ]
    },
    {
      "cell_type": "code",
      "execution_count": null,
      "metadata": {
        "colab": {
          "base_uri": "https://localhost:8080/",
          "height": 489
        },
        "id": "zitZRhjq9Vqu",
        "outputId": "5748eae4-dc41-48dd-fdf7-622d45a8cc86"
      },
      "outputs": [
        {
          "output_type": "display_data",
          "data": {
            "text/plain": [
              "<IPython.core.display.HTML object>"
            ],
            "text/html": [
              "\n",
              "     <input type=\"file\" id=\"files-687aa94a-b8f3-4ed0-9b4a-c458add0ab76\" name=\"files[]\" multiple disabled\n",
              "        style=\"border:none\" />\n",
              "     <output id=\"result-687aa94a-b8f3-4ed0-9b4a-c458add0ab76\">\n",
              "      Upload widget is only available when the cell has been executed in the\n",
              "      current browser session. Please rerun this cell to enable.\n",
              "      </output>\n",
              "      <script>// Copyright 2017 Google LLC\n",
              "//\n",
              "// Licensed under the Apache License, Version 2.0 (the \"License\");\n",
              "// you may not use this file except in compliance with the License.\n",
              "// You may obtain a copy of the License at\n",
              "//\n",
              "//      http://www.apache.org/licenses/LICENSE-2.0\n",
              "//\n",
              "// Unless required by applicable law or agreed to in writing, software\n",
              "// distributed under the License is distributed on an \"AS IS\" BASIS,\n",
              "// WITHOUT WARRANTIES OR CONDITIONS OF ANY KIND, either express or implied.\n",
              "// See the License for the specific language governing permissions and\n",
              "// limitations under the License.\n",
              "\n",
              "/**\n",
              " * @fileoverview Helpers for google.colab Python module.\n",
              " */\n",
              "(function(scope) {\n",
              "function span(text, styleAttributes = {}) {\n",
              "  const element = document.createElement('span');\n",
              "  element.textContent = text;\n",
              "  for (const key of Object.keys(styleAttributes)) {\n",
              "    element.style[key] = styleAttributes[key];\n",
              "  }\n",
              "  return element;\n",
              "}\n",
              "\n",
              "// Max number of bytes which will be uploaded at a time.\n",
              "const MAX_PAYLOAD_SIZE = 100 * 1024;\n",
              "\n",
              "function _uploadFiles(inputId, outputId) {\n",
              "  const steps = uploadFilesStep(inputId, outputId);\n",
              "  const outputElement = document.getElementById(outputId);\n",
              "  // Cache steps on the outputElement to make it available for the next call\n",
              "  // to uploadFilesContinue from Python.\n",
              "  outputElement.steps = steps;\n",
              "\n",
              "  return _uploadFilesContinue(outputId);\n",
              "}\n",
              "\n",
              "// This is roughly an async generator (not supported in the browser yet),\n",
              "// where there are multiple asynchronous steps and the Python side is going\n",
              "// to poll for completion of each step.\n",
              "// This uses a Promise to block the python side on completion of each step,\n",
              "// then passes the result of the previous step as the input to the next step.\n",
              "function _uploadFilesContinue(outputId) {\n",
              "  const outputElement = document.getElementById(outputId);\n",
              "  const steps = outputElement.steps;\n",
              "\n",
              "  const next = steps.next(outputElement.lastPromiseValue);\n",
              "  return Promise.resolve(next.value.promise).then((value) => {\n",
              "    // Cache the last promise value to make it available to the next\n",
              "    // step of the generator.\n",
              "    outputElement.lastPromiseValue = value;\n",
              "    return next.value.response;\n",
              "  });\n",
              "}\n",
              "\n",
              "/**\n",
              " * Generator function which is called between each async step of the upload\n",
              " * process.\n",
              " * @param {string} inputId Element ID of the input file picker element.\n",
              " * @param {string} outputId Element ID of the output display.\n",
              " * @return {!Iterable<!Object>} Iterable of next steps.\n",
              " */\n",
              "function* uploadFilesStep(inputId, outputId) {\n",
              "  const inputElement = document.getElementById(inputId);\n",
              "  inputElement.disabled = false;\n",
              "\n",
              "  const outputElement = document.getElementById(outputId);\n",
              "  outputElement.innerHTML = '';\n",
              "\n",
              "  const pickedPromise = new Promise((resolve) => {\n",
              "    inputElement.addEventListener('change', (e) => {\n",
              "      resolve(e.target.files);\n",
              "    });\n",
              "  });\n",
              "\n",
              "  const cancel = document.createElement('button');\n",
              "  inputElement.parentElement.appendChild(cancel);\n",
              "  cancel.textContent = 'Cancel upload';\n",
              "  const cancelPromise = new Promise((resolve) => {\n",
              "    cancel.onclick = () => {\n",
              "      resolve(null);\n",
              "    };\n",
              "  });\n",
              "\n",
              "  // Wait for the user to pick the files.\n",
              "  const files = yield {\n",
              "    promise: Promise.race([pickedPromise, cancelPromise]),\n",
              "    response: {\n",
              "      action: 'starting',\n",
              "    }\n",
              "  };\n",
              "\n",
              "  cancel.remove();\n",
              "\n",
              "  // Disable the input element since further picks are not allowed.\n",
              "  inputElement.disabled = true;\n",
              "\n",
              "  if (!files) {\n",
              "    return {\n",
              "      response: {\n",
              "        action: 'complete',\n",
              "      }\n",
              "    };\n",
              "  }\n",
              "\n",
              "  for (const file of files) {\n",
              "    const li = document.createElement('li');\n",
              "    li.append(span(file.name, {fontWeight: 'bold'}));\n",
              "    li.append(span(\n",
              "        `(${file.type || 'n/a'}) - ${file.size} bytes, ` +\n",
              "        `last modified: ${\n",
              "            file.lastModifiedDate ? file.lastModifiedDate.toLocaleDateString() :\n",
              "                                    'n/a'} - `));\n",
              "    const percent = span('0% done');\n",
              "    li.appendChild(percent);\n",
              "\n",
              "    outputElement.appendChild(li);\n",
              "\n",
              "    const fileDataPromise = new Promise((resolve) => {\n",
              "      const reader = new FileReader();\n",
              "      reader.onload = (e) => {\n",
              "        resolve(e.target.result);\n",
              "      };\n",
              "      reader.readAsArrayBuffer(file);\n",
              "    });\n",
              "    // Wait for the data to be ready.\n",
              "    let fileData = yield {\n",
              "      promise: fileDataPromise,\n",
              "      response: {\n",
              "        action: 'continue',\n",
              "      }\n",
              "    };\n",
              "\n",
              "    // Use a chunked sending to avoid message size limits. See b/62115660.\n",
              "    let position = 0;\n",
              "    do {\n",
              "      const length = Math.min(fileData.byteLength - position, MAX_PAYLOAD_SIZE);\n",
              "      const chunk = new Uint8Array(fileData, position, length);\n",
              "      position += length;\n",
              "\n",
              "      const base64 = btoa(String.fromCharCode.apply(null, chunk));\n",
              "      yield {\n",
              "        response: {\n",
              "          action: 'append',\n",
              "          file: file.name,\n",
              "          data: base64,\n",
              "        },\n",
              "      };\n",
              "\n",
              "      let percentDone = fileData.byteLength === 0 ?\n",
              "          100 :\n",
              "          Math.round((position / fileData.byteLength) * 100);\n",
              "      percent.textContent = `${percentDone}% done`;\n",
              "\n",
              "    } while (position < fileData.byteLength);\n",
              "  }\n",
              "\n",
              "  // All done.\n",
              "  yield {\n",
              "    response: {\n",
              "      action: 'complete',\n",
              "    }\n",
              "  };\n",
              "}\n",
              "\n",
              "scope.google = scope.google || {};\n",
              "scope.google.colab = scope.google.colab || {};\n",
              "scope.google.colab._files = {\n",
              "  _uploadFiles,\n",
              "  _uploadFilesContinue,\n",
              "};\n",
              "})(self);\n",
              "</script> "
            ]
          },
          "metadata": {}
        },
        {
          "output_type": "stream",
          "name": "stdout",
          "text": [
            "Saving intents.json to intents.json\n"
          ]
        },
        {
          "output_type": "execute_result",
          "data": {
            "text/plain": [
              "{'intents.json': b'{\\r\\n    \"intents\": [\\r\\n        {\\r\\n            \"tag\": \"greeting\",\\r\\n            \"patterns\": [\"Hi\", \"Hello\", \"Hey\", \"Greetings\"],\\r\\n            \"responses\": [\"Hello! How can I assist you with your college admission?\", \"Hi there! How can I help you today?\", \"Welcome! How can I support you in your college journey?\"],\\r\\n            \"context_set\": \"\"\\r\\n        },\\r\\n        {\\r\\n            \"tag\": \"goodbye\",\\r\\n            \"patterns\": [\"Goodbye\", \"Farewell\", \"See you later\", \"Bye\"],\\r\\n            \"responses\": [\"Goodbye! If you have more questions, feel free to ask.\", \"Farewell! If you need further assistance, don\\'t hesitate to reach out.\", \"See you later! Best of luck with your college endeavors.\"],\\r\\n            \"context_set\": \"\"\\r\\n        },\\r\\n        {\\r\\n            \"tag\": \"thanks\",\\r\\n            \"patterns\": [\"Thanks\", \"Thank you\", \"Appreciate it\"],\\r\\n            \"responses\": [\"You\\'re welcome! If you have more questions, feel free to ask.\", \"Happy to help! If there\\'s anything else, just let me know.\", \"Glad I could assist you! If you need further information, feel free to inquire.\"]\\r\\n        },\\r\\n        {\\r\\n            \"tag\": \"admission_requirements\",\\r\\n            \"patterns\": [\"What are the admission requirements?\", \"Tell me about admission criteria\", \"What do I need to get admitted?\"],\\r\\n            \"responses\": [\"Admission requirements vary by program. You can find specific information on our website or ask me about a particular program.\", \"Admission criteria depend on the program you\\'re interested in. You can check our website for detailed information or specify the program for more details.\"],\\r\\n            \"context_set\": \"\"\\r\\n        },\\r\\n        {\\r\\n            \"tag\": \"application_process\",\\r\\n            \"patterns\": [\"How do I apply?\", \"Tell me about the application process\", \"What steps are involved in applying?\"],\\r\\n            \"responses\": [\"The application process involves several steps, including submitting an online application, providing transcripts, and possibly letters of recommendation. Would you like more detailed information on a specific step or program?\", \"To apply, you need to complete an online application, submit necessary documents, and, in some cases, attend an interview. Let me know if you have questions about a specific part of the process.\"],\\r\\n            \"context_set\": \"\"\\r\\n        },\\r\\n        {\\r\\n            \"tag\": \"deadlines\",\\r\\n            \"patterns\": [\"What are the application deadlines?\", \"When is the deadline to apply?\", \"Tell me about application timelines\"],\\r\\n            \"responses\": [\"Application deadlines vary by program. You can find detailed information on our website or specify the program you\\'re interested in for more accurate details.\", \"Application deadlines depend on the program. Check our website or let me know which program you\\'re interested in for specific deadline information.\"],\\r\\n            \"context_set\": \"\"\\r\\n        },\\r\\n        {\\r\\n            \"tag\": \"financial_aid\",\\r\\n            \"patterns\": [\"Tell me about financial aid\", \"How can I apply for scholarships?\", \"What financial support is available?\"],\\r\\n            \"responses\": [\"We offer various financial aid options, including scholarships, grants, and loans. You can find more information on our website or specify the type of financial aid you\\'re interested in for personalized details.\", \"Financial aid options include scholarships, grants, and work-study programs. Visit our website for detailed information or let me know if you have specific questions.\"],\\r\\n            \"context_set\": \"\"\\r\\n        },\\r\\n        {\\r\\n            \"tag\": \"contact_admissions\",\\r\\n            \"patterns\": [\"How can I contact admissions?\", \"Tell me the contact details for admissions\", \"Can I speak to an admissions counselor?\"],\\r\\n            \"responses\": [\"You can reach our admissions office by phone at [phone number] or by email at [email address]. Admissions counselors are available to assist you during office hours. Feel free to contact us for any questions or concerns.\", \"To get in touch with admissions, you can call us at [phone number] or email us at [email address]. Our admissions counselors are here to help you with any inquiries.\"],\\r\\n            \"context_set\": \"\"\\r\\n        }\\r\\n    ]\\r\\n}\\r\\n'}"
            ]
          },
          "metadata": {},
          "execution_count": 4
        }
      ],
      "source": [
        "from google.colab import files\n",
        "files.upload()"
      ]
    },
    {
      "cell_type": "code",
      "execution_count": null,
      "metadata": {
        "id": "sBEuh9TEGBo7"
      },
      "outputs": [],
      "source": [
        "# import our chat-bot intents file\n",
        "import json\n",
        "with open('intents.json') as json_data:\n",
        "    intents = json.load(json_data)"
      ]
    },
    {
      "cell_type": "code",
      "execution_count": null,
      "metadata": {
        "colab": {
          "base_uri": "https://localhost:8080/"
        },
        "id": "mpFsVWPKGKbI",
        "outputId": "7703ac37-962e-4d43-9128-84c701368531"
      },
      "outputs": [
        {
          "output_type": "execute_result",
          "data": {
            "text/plain": [
              "{'intents': [{'tag': 'greeting',\n",
              "   'patterns': ['Hi', 'Hello', 'Hey', 'Greetings'],\n",
              "   'responses': ['Hello! How can I assist you with your college admission?',\n",
              "    'Hi there! How can I help you today?',\n",
              "    'Welcome! How can I support you in your college journey?'],\n",
              "   'context_set': ''},\n",
              "  {'tag': 'goodbye',\n",
              "   'patterns': ['Goodbye', 'Farewell', 'See you later', 'Bye'],\n",
              "   'responses': ['Goodbye! If you have more questions, feel free to ask.',\n",
              "    \"Farewell! If you need further assistance, don't hesitate to reach out.\",\n",
              "    'See you later! Best of luck with your college endeavors.'],\n",
              "   'context_set': ''},\n",
              "  {'tag': 'thanks',\n",
              "   'patterns': ['Thanks', 'Thank you', 'Appreciate it'],\n",
              "   'responses': [\"You're welcome! If you have more questions, feel free to ask.\",\n",
              "    \"Happy to help! If there's anything else, just let me know.\",\n",
              "    'Glad I could assist you! If you need further information, feel free to inquire.']},\n",
              "  {'tag': 'admission_requirements',\n",
              "   'patterns': ['What are the admission requirements?',\n",
              "    'Tell me about admission criteria',\n",
              "    'What do I need to get admitted?'],\n",
              "   'responses': ['Admission requirements vary by program. You can find specific information on our website or ask me about a particular program.',\n",
              "    \"Admission criteria depend on the program you're interested in. You can check our website for detailed information or specify the program for more details.\"],\n",
              "   'context_set': ''},\n",
              "  {'tag': 'application_process',\n",
              "   'patterns': ['How do I apply?',\n",
              "    'Tell me about the application process',\n",
              "    'What steps are involved in applying?'],\n",
              "   'responses': ['The application process involves several steps, including submitting an online application, providing transcripts, and possibly letters of recommendation. Would you like more detailed information on a specific step or program?',\n",
              "    'To apply, you need to complete an online application, submit necessary documents, and, in some cases, attend an interview. Let me know if you have questions about a specific part of the process.'],\n",
              "   'context_set': ''},\n",
              "  {'tag': 'deadlines',\n",
              "   'patterns': ['What are the application deadlines?',\n",
              "    'When is the deadline to apply?',\n",
              "    'Tell me about application timelines'],\n",
              "   'responses': [\"Application deadlines vary by program. You can find detailed information on our website or specify the program you're interested in for more accurate details.\",\n",
              "    \"Application deadlines depend on the program. Check our website or let me know which program you're interested in for specific deadline information.\"],\n",
              "   'context_set': ''},\n",
              "  {'tag': 'financial_aid',\n",
              "   'patterns': ['Tell me about financial aid',\n",
              "    'How can I apply for scholarships?',\n",
              "    'What financial support is available?'],\n",
              "   'responses': [\"We offer various financial aid options, including scholarships, grants, and loans. You can find more information on our website or specify the type of financial aid you're interested in for personalized details.\",\n",
              "    'Financial aid options include scholarships, grants, and work-study programs. Visit our website for detailed information or let me know if you have specific questions.'],\n",
              "   'context_set': ''},\n",
              "  {'tag': 'contact_admissions',\n",
              "   'patterns': ['How can I contact admissions?',\n",
              "    'Tell me the contact details for admissions',\n",
              "    'Can I speak to an admissions counselor?'],\n",
              "   'responses': ['You can reach our admissions office by phone at [phone number] or by email at [email address]. Admissions counselors are available to assist you during office hours. Feel free to contact us for any questions or concerns.',\n",
              "    'To get in touch with admissions, you can call us at [phone number] or email us at [email address]. Our admissions counselors are here to help you with any inquiries.'],\n",
              "   'context_set': ''}]}"
            ]
          },
          "metadata": {},
          "execution_count": 6
        }
      ],
      "source": [
        "intents"
      ]
    },
    {
      "cell_type": "code",
      "execution_count": null,
      "metadata": {
        "id": "jUNlDhkSGVL1"
      },
      "outputs": [],
      "source": [
        "words = []\n",
        "classes = []\n",
        "documents = []\n",
        "ignore = ['?']\n",
        "# loop through each sentence in the intent's patterns\n",
        "for intent in intents['intents']:\n",
        "    for pattern in intent['patterns']:\n",
        "        # tokenize each and every word in the sentence\n",
        "        w = nltk.word_tokenize(pattern)\n",
        "        # add word to the words list\n",
        "        words.extend(w)\n",
        "        # add word(s) to documents\n",
        "        documents.append((w, intent['tag']))\n",
        "        # add tags to our classes list\n",
        "        if intent['tag'] not in classes:\n",
        "            classes.append(intent['tag'])"
      ]
    },
    {
      "cell_type": "code",
      "execution_count": null,
      "metadata": {
        "colab": {
          "base_uri": "https://localhost:8080/"
        },
        "id": "GO7b9xTwHJMJ",
        "outputId": "29dbbeca-ad44-4ebf-9894-ef7d0c0ef874"
      },
      "outputs": [
        {
          "output_type": "stream",
          "name": "stdout",
          "text": [
            "26 documents\n",
            "8 classes ['admission_requirements', 'application_process', 'contact_admissions', 'deadlines', 'financial_aid', 'goodbye', 'greeting', 'thanks']\n",
            "49 unique stemmed words ['about', 'admit', 'aid', 'an', 'apply', 'apprecy', 'ar', 'avail', 'bye', 'can', 'contact', 'counsel', 'criter', 'deadlin', 'detail', 'do', 'farewel', 'fin', 'for', 'get', 'goodby', 'greet', 'hello', 'hey', 'hi', 'how', 'i', 'in', 'involv', 'is', 'it', 'lat', 'me', 'nee', 'process', 'requir', 'scholarships', 'see', 'speak', 'step', 'support', 'tel', 'thank', 'the', 'timelin', 'to', 'what', 'when', 'you']\n"
          ]
        }
      ],
      "source": [
        "# Perform stemming and lower each word as well as remove duplicates\n",
        "words = [stemmer.stem(w.lower()) for w in words if w not in ignore]\n",
        "words = sorted(list(set(words)))\n",
        "\n",
        "# remove duplicate classes\n",
        "classes = sorted(list(set(classes)))\n",
        "\n",
        "print (len(documents), \"documents\")\n",
        "print (len(classes), \"classes\", classes)\n",
        "print (len(words), \"unique stemmed words\", words)"
      ]
    },
    {
      "cell_type": "code",
      "execution_count": null,
      "metadata": {
        "colab": {
          "base_uri": "https://localhost:8080/"
        },
        "id": "vziuGlP1Iq-P",
        "outputId": "9a7db94e-4d9a-4d13-919d-12be0281a151"
      },
      "outputs": [
        {
          "output_type": "stream",
          "name": "stderr",
          "text": [
            "<ipython-input-9-0222230fb184>:27: VisibleDeprecationWarning: Creating an ndarray from ragged nested sequences (which is a list-or-tuple of lists-or-tuples-or ndarrays with different lengths or shapes) is deprecated. If you meant to do this, you must specify 'dtype=object' when creating the ndarray.\n",
            "  training = np.array(training)\n"
          ]
        }
      ],
      "source": [
        "# create training data\n",
        "training = []\n",
        "output = []\n",
        "# create an empty array for output\n",
        "output_empty = [0] * len(classes)\n",
        "\n",
        "# create training set, bag of words for each sentence\n",
        "for doc in documents:\n",
        "    # initialize bag of words\n",
        "    bag = []\n",
        "    # list of tokenized words for the pattern\n",
        "    pattern_words = doc[0]\n",
        "    # stemming each word\n",
        "    pattern_words = [stemmer.stem(word.lower()) for word in pattern_words]\n",
        "    # create bag of words array\n",
        "    for w in words:\n",
        "        bag.append(1) if w in pattern_words else bag.append(0)\n",
        "\n",
        "    # output is '1' for current tag and '0' for rest of other tags\n",
        "    output_row = list(output_empty)\n",
        "    output_row[classes.index(doc[1])] = 1\n",
        "\n",
        "    training.append([bag, output_row])\n",
        "\n",
        "# shuffling features and turning it into np.array\n",
        "random.shuffle(training)\n",
        "training = np.array(training)\n",
        "\n",
        "# creating training lists\n",
        "train_x = list(training[:,0])\n",
        "train_y = list(training[:,1])"
      ]
    },
    {
      "cell_type": "code",
      "execution_count": null,
      "metadata": {
        "colab": {
          "base_uri": "https://localhost:8080/"
        },
        "id": "ZX8rC1x9PVTb",
        "outputId": "0ee5f2a8-d088-4ec4-ed0c-28a2295beae3"
      },
      "outputs": [
        {
          "output_type": "stream",
          "name": "stdout",
          "text": [
            "Training Step: 3999  | total loss: \u001b[1m\u001b[32m0.00394\u001b[0m\u001b[0m | time: 0.014s\n",
            "| Adam | epoch: 1000 | loss: 0.00394 - acc: 1.0000 -- iter: 24/26\n",
            "Training Step: 4000  | total loss: \u001b[1m\u001b[32m0.00402\u001b[0m\u001b[0m | time: 0.019s\n",
            "| Adam | epoch: 1000 | loss: 0.00402 - acc: 1.0000 -- iter: 26/26\n",
            "--\n"
          ]
        }
      ],
      "source": [
        "# resetting underlying graph data\n",
        "#tf.reset_default_graph()\n",
        "\n",
        "# Building neural network\n",
        "net = tflearn.input_data(shape=[None, len(train_x[0])])\n",
        "net = tflearn.fully_connected(net, 10)\n",
        "net = tflearn.fully_connected(net, 10)\n",
        "net = tflearn.fully_connected(net, len(train_y[0]), activation='softmax')\n",
        "net = tflearn.regression(net)\n",
        "\n",
        "# Defining model and setting up tensorboard\n",
        "model = tflearn.DNN(net, tensorboard_dir='tflearn_logs')\n",
        "\n",
        "# Start training\n",
        "model.fit(train_x, train_y, n_epoch=1000, batch_size=8, show_metric=True)\n",
        "model.save('model.tflearn')"
      ]
    },
    {
      "cell_type": "code",
      "execution_count": null,
      "metadata": {
        "id": "ha2RGmK1Zz5l"
      },
      "outputs": [],
      "source": [
        "import pickle\n",
        "pickle.dump( {'words':words, 'classes':classes, 'train_x':train_x, 'train_y':train_y}, open( \"training_data\", \"wb\" ) )"
      ]
    },
    {
      "cell_type": "code",
      "execution_count": null,
      "metadata": {
        "id": "ux9WbDZvbAzf"
      },
      "outputs": [],
      "source": [
        "# restoring all the data structures\n",
        "data = pickle.load( open( \"training_data\", \"rb\" ) )\n",
        "words = data['words']\n",
        "classes = data['classes']\n",
        "train_x = data['train_x']\n",
        "train_y = data['train_y']"
      ]
    },
    {
      "cell_type": "code",
      "execution_count": null,
      "metadata": {
        "id": "Ms17AFyEbEjt"
      },
      "outputs": [],
      "source": [
        "with open('intents.json') as json_data:\n",
        "    intents = json.load(json_data)"
      ]
    },
    {
      "cell_type": "code",
      "execution_count": null,
      "metadata": {
        "id": "WKYk9_FXbLfd"
      },
      "outputs": [],
      "source": [
        "# load the saved model\n",
        "model.load('./model.tflearn')"
      ]
    },
    {
      "cell_type": "code",
      "execution_count": null,
      "metadata": {
        "id": "VB27k_vQbhu4"
      },
      "outputs": [],
      "source": [
        "def clean_up_sentence(sentence):\n",
        "    # tokenizing the pattern\n",
        "    sentence_words = nltk.word_tokenize(sentence)\n",
        "    # stemming each word\n",
        "    sentence_words = [stemmer.stem(word.lower()) for word in sentence_words]\n",
        "    return sentence_words\n",
        "\n",
        "# returning bag of words array: 0 or 1 for each word in the bag that exists in the sentence\n",
        "def bow(sentence, words, show_details=False):\n",
        "    # tokenizing the pattern\n",
        "    sentence_words = clean_up_sentence(sentence)\n",
        "    # generating bag of words\n",
        "    bag = [0]*len(words)\n",
        "    for s in sentence_words:\n",
        "        for i,w in enumerate(words):\n",
        "            if w == s:\n",
        "                bag[i] = 1\n",
        "                if show_details:\n",
        "                    print (\"found in bag: %s\" % w)\n",
        "\n",
        "    return(np.array(bag))"
      ]
    },
    {
      "cell_type": "code",
      "execution_count": null,
      "metadata": {
        "id": "3lToEtkTb5Pr"
      },
      "outputs": [],
      "source": [
        "ERROR_THRESHOLD = 0.30\n",
        "def classify(sentence):\n",
        "    # generate probabilities from the model\n",
        "    results = model.predict([bow(sentence, words)])[0]\n",
        "    # filter out predictions below a threshold\n",
        "    results = [[i,r] for i,r in enumerate(results) if r>ERROR_THRESHOLD]\n",
        "    # sort by strength of probability\n",
        "    results.sort(key=lambda x: x[1], reverse=True)\n",
        "    return_list = []\n",
        "    for r in results:\n",
        "        return_list.append((classes[r[0]], r[1]))\n",
        "    # return tuple of intent and probability\n",
        "    return return_list\n",
        "\n",
        "def response(sentence, userID='123', show_details=False):\n",
        "    results = classify(sentence)\n",
        "    # if we have a classification then find the matching intent tag\n",
        "    if results:\n",
        "        # loop as long as there are matches to process\n",
        "        while results:\n",
        "            for i in intents['intents']:\n",
        "                # find a tag matching the first result\n",
        "                if i['tag'] == results[0][0]:\n",
        "                    # a random response from the intent\n",
        "                    return print(random.choice(i['responses']))\n",
        "\n",
        "            results.pop(0)"
      ]
    },
    {
      "cell_type": "code",
      "execution_count": null,
      "metadata": {
        "colab": {
          "base_uri": "https://localhost:8080/"
        },
        "id": "eal_MyIEcC9X",
        "outputId": "b80d8ffb-1dbc-43bb-8dde-79f2db88bd3d"
      },
      "outputs": [
        {
          "output_type": "execute_result",
          "data": {
            "text/plain": [
              "[('greeting', 0.9969271)]"
            ]
          },
          "metadata": {},
          "execution_count": 17
        }
      ],
      "source": [
        "classify('Hello')"
      ]
    },
    {
      "cell_type": "code",
      "execution_count": null,
      "metadata": {
        "colab": {
          "base_uri": "https://localhost:8080/"
        },
        "id": "zvFA4ef4cW96",
        "outputId": "268a10f0-f812-4a24-ca7b-7370ba4fa57f"
      },
      "outputs": [
        {
          "output_type": "stream",
          "name": "stdout",
          "text": [
            "Hi there! How can I help you today?\n"
          ]
        }
      ],
      "source": [
        "response('Hi')"
      ]
    },
    {
      "cell_type": "code",
      "execution_count": null,
      "metadata": {
        "colab": {
          "base_uri": "https://localhost:8080/"
        },
        "id": "9ox0fJIlOIJ-",
        "outputId": "d5e74a85-0ae9-450e-d95e-8ce36183504c"
      },
      "outputs": [
        {
          "output_type": "stream",
          "name": "stdout",
          "text": [
            "Application deadlines vary by program. You can find detailed information on our website or specify the program you're interested in for more accurate details.\n"
          ]
        }
      ],
      "source": [
        "response('How are you?')"
      ]
    },
    {
      "cell_type": "code",
      "execution_count": null,
      "metadata": {
        "colab": {
          "base_uri": "https://localhost:8080/"
        },
        "id": "4_QtpNdkc5wD",
        "outputId": "7e62a1bf-fa6d-4d4f-a0ee-0d4d5fc1716a"
      },
      "outputs": [
        {
          "output_type": "stream",
          "name": "stdout",
          "text": [
            "We offer various financial aid options, including scholarships, grants, and loans. You can find more information on our website or specify the type of financial aid you're interested in for personalized details.\n"
          ]
        }
      ],
      "source": [
        "#Some of other context free responses.\n",
        "response('How the day')"
      ]
    },
    {
      "cell_type": "code",
      "execution_count": null,
      "metadata": {
        "colab": {
          "base_uri": "https://localhost:8080/"
        },
        "id": "xp7OJvpHKXuw",
        "outputId": "da65b179-37ce-4295-8dcb-c3f1b3b88bd2"
      },
      "outputs": [
        {
          "output_type": "stream",
          "name": "stdout",
          "text": [
            "Welcome! How can I support you in your college journey?\n"
          ]
        }
      ],
      "source": [
        "response('entrance')"
      ]
    },
    {
      "cell_type": "code",
      "execution_count": null,
      "metadata": {
        "colab": {
          "base_uri": "https://localhost:8080/"
        },
        "id": "3PNLGpl0gKCF",
        "outputId": "e6fa4e6d-ec68-4d58-dacb-8a49f83dc1c5"
      },
      "outputs": [
        {
          "output_type": "stream",
          "name": "stdout",
          "text": [
            "Application deadlines vary by program. You can find detailed information on our website or specify the program you're interested in for more accurate details.\n"
          ]
        }
      ],
      "source": [
        "response('admission')"
      ]
    },
    {
      "cell_type": "code",
      "execution_count": null,
      "metadata": {
        "colab": {
          "base_uri": "https://localhost:8080/"
        },
        "id": "wzeIGchZK2fJ",
        "outputId": "bfbe9666-8fac-49c6-f7de-0973905f63d4"
      },
      "outputs": [
        {
          "output_type": "stream",
          "name": "stdout",
          "text": [
            "Goodbye! If you have more questions, feel free to ask.\n"
          ]
        }
      ],
      "source": [
        "response('Bye')"
      ]
    },
    {
      "cell_type": "code",
      "execution_count": null,
      "metadata": {
        "id": "p_NgjLGwggdI"
      },
      "outputs": [],
      "source": [
        "#Adding some context to the conversation i.e. Contexualization for altering question and intents etc.\n",
        "# create a data structure to hold user context\n",
        "context = {}\n",
        "\n",
        "ERROR_THRESHOLD = 0.25\n",
        "def classify(sentence):\n",
        "    # generate probabilities from the model\n",
        "    results = model.predict([bow(sentence, words)])[0]\n",
        "    # filter out predictions below a threshold\n",
        "    results = [[i,r] for i,r in enumerate(results) if r>ERROR_THRESHOLD]\n",
        "    # sort by strength of probability\n",
        "    results.sort(key=lambda x: x[1], reverse=True)\n",
        "    return_list = []\n",
        "    for r in results:\n",
        "        return_list.append((classes[r[0]], r[1]))\n",
        "    # return tuple of intent and probability\n",
        "    return return_list\n",
        "\n",
        "def response(sentence, userID='123', show_details=False):\n",
        "    results = classify(sentence)\n",
        "    # if we have a classification then find the matching intent tag\n",
        "    if results:\n",
        "        # loop as long as there are matches to process\n",
        "        while results:\n",
        "            for i in intents['intents']:\n",
        "                # find a tag matching the first result\n",
        "                if i['tag'] == results[0][0]:\n",
        "                    # set context for this intent if necessary\n",
        "                    if 'context_set' in i:\n",
        "                        if show_details: print ('context:', i['context_set'])\n",
        "                        context[userID] = i['context_set']\n",
        "\n",
        "                    # check if this intent is contextual and applies to this user's conversation\n",
        "                    if not 'context_filter' in i or \\\n",
        "                        (userID in context and 'context_filter' in i and i['context_filter'] == context[userID]):\n",
        "                        if show_details: print ('tag:', i['tag'])\n",
        "                        # a random response from the intent\n",
        "                        return print(random.choice(i['responses']))\n",
        "\n",
        "            results.pop(0)"
      ]
    },
    {
      "cell_type": "code",
      "execution_count": null,
      "metadata": {
        "id": "aBejUcxra0UV",
        "colab": {
          "base_uri": "https://localhost:8080/"
        },
        "outputId": "04056d81-985b-4b28-db6e-7680588584e4"
      },
      "outputs": [
        {
          "output_type": "stream",
          "name": "stdout",
          "text": [
            "The application process involves several steps, including submitting an online application, providing transcripts, and possibly letters of recommendation. Would you like more detailed information on a specific step or program?\n"
          ]
        }
      ],
      "source": [
        "response('how to apply?')"
      ]
    },
    {
      "cell_type": "code",
      "execution_count": null,
      "metadata": {
        "id": "xYwHSa_Bb6rM",
        "colab": {
          "base_uri": "https://localhost:8080/"
        },
        "outputId": "b56fc2a1-66c0-4088-adcc-ea900636682a"
      },
      "outputs": [
        {
          "output_type": "stream",
          "name": "stdout",
          "text": [
            "Glad I could assist you! If you need further information, feel free to inquire.\n"
          ]
        }
      ],
      "source": [
        "response('transcripts')"
      ]
    },
    {
      "cell_type": "code",
      "source": [],
      "metadata": {
        "id": "NAvYAQcENo-n"
      },
      "execution_count": null,
      "outputs": []
    }
  ],
  "metadata": {
    "accelerator": "GPU",
    "colab": {
      "provenance": [],
      "include_colab_link": true
    },
    "kernelspec": {
      "display_name": "Python 3",
      "name": "python3"
    }
  },
  "nbformat": 4,
  "nbformat_minor": 0
}